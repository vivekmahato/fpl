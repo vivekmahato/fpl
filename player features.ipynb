{
 "cells": [
  {
   "cell_type": "code",
   "execution_count": 84,
   "metadata": {
    "ExecuteTime": {
     "end_time": "2020-10-30T16:24:45.939003Z",
     "start_time": "2020-10-30T16:24:45.929402Z"
    }
   },
   "outputs": [],
   "source": [
    "import pandas as pd\n",
    "import numpy as np\n",
    "import json\n",
    "import requests\n",
    "from pandas.io.json import json_normalize\n",
    "from sklearn.preprocessing import MinMaxScaler\n",
    "import requests\n",
    "from datetime import datetime as dt\n",
    "import asyncio\n",
    "from operator import attrgetter\n",
    "\n",
    "import aiohttp\n",
    "from prettytable import PrettyTable\n",
    "\n",
    "from fpl import FPL\n",
    "from fpl.utils import team_converter\n",
    "from colorama import Fore, init\n",
    "from datetime import date"
   ]
  },
  {
   "cell_type": "code",
   "execution_count": 2,
   "metadata": {
    "ExecuteTime": {
     "end_time": "2020-10-30T15:38:59.219707Z",
     "start_time": "2020-10-30T15:38:59.094593Z"
    },
    "deletable": false,
    "editable": false
   },
   "outputs": [],
   "source": [
    "session = requests.session()\n",
    "url = 'https://users.premierleague.com/accounts/login/'\n",
    "creds = (\"knowingvivek@gmail.com\", \"Pl1nc#$$\")\n",
    "payload = {\n",
    "    'password': creds[0],\n",
    "    'login': creds[1],\n",
    "    'redirect_uri': 'https://fantasy.premierleague.com/a/login',\n",
    "    'app': 'plfpl-web'\n",
    "}\n",
    "session.post(url, data=payload)\n",
    "global team_map"
   ]
  },
  {
   "cell_type": "code",
   "execution_count": 3,
   "metadata": {
    "ExecuteTime": {
     "end_time": "2020-10-30T15:39:08.647778Z",
     "start_time": "2020-10-30T15:39:08.534042Z"
    },
    "deletable": false,
    "editable": false
   },
   "outputs": [],
   "source": [
    "def get_json(file_path):\n",
    "    r = requests.get('https://fantasy.premierleague.com/api/bootstrap-static/')\n",
    "    jsonResponse = r.json()\n",
    "    with open(file_path, 'w') as outfile:\n",
    "        json.dump(jsonResponse, outfile)\n",
    "get_json('fpl.json')\n",
    "with open('fpl.json') as json_data:\n",
    "    d = json.load(json_data)\n",
    "global team_map\n",
    "team_map ={}\n",
    "for rec in d[\"teams\"]:\n",
    "    name = rec[\"name\"]\n",
    "    i = rec[\"id\"]\n",
    "    team_map[i]=name\n",
    "global pos_map\n",
    "pos_map = {1: \"Goalkeeper\", 2: \"Defender\", 3:\"Midfielder\", 4:\"Forward\"}"
   ]
  },
  {
   "cell_type": "markdown",
   "metadata": {},
   "source": [
    "# Get Data for each player"
   ]
  },
  {
   "cell_type": "code",
   "execution_count": 79,
   "metadata": {
    "ExecuteTime": {
     "end_time": "2020-10-30T16:13:18.202355Z",
     "start_time": "2020-10-30T16:13:18.189236Z"
    },
    "code_folding": [
     5
    ]
   },
   "outputs": [],
   "source": [
    "def check_num(f):\n",
    "    try:\n",
    "        return float(f)\n",
    "    except:\n",
    "        return f\n",
    "\n",
    "async def get_player_data():\n",
    "    async with aiohttp.ClientSession() as session:\n",
    "        fpl = FPL(session)\n",
    "        players = await fpl.get_players()\n",
    "        for player in players:\n",
    "            keys = []\n",
    "            vals = []\n",
    "            for attr in dir(player):\n",
    "                if \"_\" != attr[0]:\n",
    "                    if attr in [\"games_played\",\"vapm\"]:\n",
    "                        val = await player.__getattribute__(attr)\n",
    "                    else:\n",
    "                        val = player.__getattribute__(attr)\n",
    "                    val = check_num(val)\n",
    "                    keys.append(attr)\n",
    "                    vals.append(val)\n",
    "            yield {k:v for k,v in zip(keys,vals)}\n"
   ]
  },
  {
   "cell_type": "code",
   "execution_count": 80,
   "metadata": {
    "ExecuteTime": {
     "end_time": "2020-10-30T16:13:34.051765Z",
     "start_time": "2020-10-30T16:13:19.039224Z"
    }
   },
   "outputs": [],
   "source": [
    "data = get_player_data()\n",
    "i = 0\n",
    "async for d in data:\n",
    "    try:\n",
    "        player_df.loc[i] = d.values()\n",
    "    except:\n",
    "        player_df = pd.DataFrame(columns=d.keys())\n",
    "        player_df.loc[i] = d.values()\n",
    "    finally:\n",
    "        i+=1"
   ]
  },
  {
   "cell_type": "code",
   "execution_count": 81,
   "metadata": {
    "ExecuteTime": {
     "end_time": "2020-10-30T16:13:34.163494Z",
     "start_time": "2020-10-30T16:13:34.140263Z"
    }
   },
   "outputs": [],
   "source": [
    "player_df = player_df.convert_dtypes()"
   ]
  },
  {
   "cell_type": "code",
   "execution_count": 82,
   "metadata": {
    "ExecuteTime": {
     "end_time": "2020-10-30T16:13:34.251895Z",
     "start_time": "2020-10-30T16:13:34.246388Z"
    }
   },
   "outputs": [
    {
     "data": {
      "text/plain": [
       "assists                           Int64\n",
       "bonus                             Int64\n",
       "bps                               Int64\n",
       "chance_of_playing_next_round      Int64\n",
       "chance_of_playing_this_round      Int64\n",
       "                                 ...   \n",
       "value_form                      float64\n",
       "value_season                    float64\n",
       "vapm                            float64\n",
       "web_name                         string\n",
       "yellow_cards                      Int64\n",
       "Length: 70, dtype: object"
      ]
     },
     "execution_count": 82,
     "metadata": {},
     "output_type": "execute_result"
    }
   ],
   "source": [
    "player_df.dtypes"
   ]
  },
  {
   "cell_type": "code",
   "execution_count": 83,
   "metadata": {
    "ExecuteTime": {
     "end_time": "2020-10-30T16:14:03.695906Z",
     "start_time": "2020-10-30T16:14:03.662561Z"
    }
   },
   "outputs": [
    {
     "data": {
      "text/html": [
       "<div>\n",
       "<style scoped>\n",
       "    .dataframe tbody tr th:only-of-type {\n",
       "        vertical-align: middle;\n",
       "    }\n",
       "\n",
       "    .dataframe tbody tr th {\n",
       "        vertical-align: top;\n",
       "    }\n",
       "\n",
       "    .dataframe thead th {\n",
       "        text-align: right;\n",
       "    }\n",
       "</style>\n",
       "<table border=\"1\" class=\"dataframe\">\n",
       "  <thead>\n",
       "    <tr style=\"text-align: right;\">\n",
       "      <th></th>\n",
       "      <th>assists</th>\n",
       "      <th>bonus</th>\n",
       "      <th>bps</th>\n",
       "      <th>chance_of_playing_next_round</th>\n",
       "      <th>chance_of_playing_this_round</th>\n",
       "      <th>clean_sheets</th>\n",
       "      <th>code</th>\n",
       "      <th>corners_and_indirect_freekicks_order</th>\n",
       "      <th>corners_and_indirect_freekicks_text</th>\n",
       "      <th>cost_change_event</th>\n",
       "      <th>...</th>\n",
       "      <th>total_points</th>\n",
       "      <th>transfers_in</th>\n",
       "      <th>transfers_in_event</th>\n",
       "      <th>transfers_out</th>\n",
       "      <th>transfers_out_event</th>\n",
       "      <th>value_form</th>\n",
       "      <th>value_season</th>\n",
       "      <th>vapm</th>\n",
       "      <th>web_name</th>\n",
       "      <th>yellow_cards</th>\n",
       "    </tr>\n",
       "  </thead>\n",
       "  <tbody>\n",
       "    <tr>\n",
       "      <th>0</th>\n",
       "      <td>0</td>\n",
       "      <td>0</td>\n",
       "      <td>0</td>\n",
       "      <td>0</td>\n",
       "      <td>0</td>\n",
       "      <td>0</td>\n",
       "      <td>37605</td>\n",
       "      <td>&lt;NA&gt;</td>\n",
       "      <td></td>\n",
       "      <td>0</td>\n",
       "      <td>...</td>\n",
       "      <td>0</td>\n",
       "      <td>3264</td>\n",
       "      <td>55</td>\n",
       "      <td>47258</td>\n",
       "      <td>3038</td>\n",
       "      <td>0.0</td>\n",
       "      <td>0.0</td>\n",
       "      <td>0.000000</td>\n",
       "      <td>Özil</td>\n",
       "      <td>0</td>\n",
       "    </tr>\n",
       "    <tr>\n",
       "      <th>1</th>\n",
       "      <td>0</td>\n",
       "      <td>0</td>\n",
       "      <td>0</td>\n",
       "      <td>0</td>\n",
       "      <td>0</td>\n",
       "      <td>0</td>\n",
       "      <td>39476</td>\n",
       "      <td>&lt;NA&gt;</td>\n",
       "      <td></td>\n",
       "      <td>0</td>\n",
       "      <td>...</td>\n",
       "      <td>0</td>\n",
       "      <td>10195</td>\n",
       "      <td>18</td>\n",
       "      <td>17729</td>\n",
       "      <td>598</td>\n",
       "      <td>0.0</td>\n",
       "      <td>0.0</td>\n",
       "      <td>0.000000</td>\n",
       "      <td>Sokratis</td>\n",
       "      <td>0</td>\n",
       "    </tr>\n",
       "    <tr>\n",
       "      <th>2</th>\n",
       "      <td>0</td>\n",
       "      <td>0</td>\n",
       "      <td>51</td>\n",
       "      <td>50</td>\n",
       "      <td>100</td>\n",
       "      <td>0</td>\n",
       "      <td>41270</td>\n",
       "      <td>&lt;NA&gt;</td>\n",
       "      <td></td>\n",
       "      <td>0</td>\n",
       "      <td>...</td>\n",
       "      <td>7</td>\n",
       "      <td>29500</td>\n",
       "      <td>2291</td>\n",
       "      <td>57672</td>\n",
       "      <td>10247</td>\n",
       "      <td>0.3</td>\n",
       "      <td>1.3</td>\n",
       "      <td>-0.109091</td>\n",
       "      <td>David Luiz</td>\n",
       "      <td>0</td>\n",
       "    </tr>\n",
       "    <tr>\n",
       "      <th>3</th>\n",
       "      <td>1</td>\n",
       "      <td>0</td>\n",
       "      <td>73</td>\n",
       "      <td>100</td>\n",
       "      <td>100</td>\n",
       "      <td>1</td>\n",
       "      <td>54694</td>\n",
       "      <td>&lt;NA&gt;</td>\n",
       "      <td></td>\n",
       "      <td>-1</td>\n",
       "      <td>...</td>\n",
       "      <td>20</td>\n",
       "      <td>354384</td>\n",
       "      <td>5952</td>\n",
       "      <td>2509284</td>\n",
       "      <td>178237</td>\n",
       "      <td>0.2</td>\n",
       "      <td>1.7</td>\n",
       "      <td>0.113960</td>\n",
       "      <td>Aubameyang</td>\n",
       "      <td>1</td>\n",
       "    </tr>\n",
       "    <tr>\n",
       "      <th>4</th>\n",
       "      <td>0</td>\n",
       "      <td>0</td>\n",
       "      <td>0</td>\n",
       "      <td>100</td>\n",
       "      <td>100</td>\n",
       "      <td>0</td>\n",
       "      <td>58822</td>\n",
       "      <td>&lt;NA&gt;</td>\n",
       "      <td></td>\n",
       "      <td>-1</td>\n",
       "      <td>...</td>\n",
       "      <td>0</td>\n",
       "      <td>2566</td>\n",
       "      <td>200</td>\n",
       "      <td>29736</td>\n",
       "      <td>937</td>\n",
       "      <td>0.0</td>\n",
       "      <td>0.0</td>\n",
       "      <td>0.000000</td>\n",
       "      <td>Cédric</td>\n",
       "      <td>0</td>\n",
       "    </tr>\n",
       "  </tbody>\n",
       "</table>\n",
       "<p>5 rows × 70 columns</p>\n",
       "</div>"
      ],
      "text/plain": [
       "   assists  bonus  bps  chance_of_playing_next_round  \\\n",
       "0        0      0    0                             0   \n",
       "1        0      0    0                             0   \n",
       "2        0      0   51                            50   \n",
       "3        1      0   73                           100   \n",
       "4        0      0    0                           100   \n",
       "\n",
       "   chance_of_playing_this_round  clean_sheets   code  \\\n",
       "0                             0             0  37605   \n",
       "1                             0             0  39476   \n",
       "2                           100             0  41270   \n",
       "3                           100             1  54694   \n",
       "4                           100             0  58822   \n",
       "\n",
       "   corners_and_indirect_freekicks_order corners_and_indirect_freekicks_text  \\\n",
       "0                                  <NA>                                       \n",
       "1                                  <NA>                                       \n",
       "2                                  <NA>                                       \n",
       "3                                  <NA>                                       \n",
       "4                                  <NA>                                       \n",
       "\n",
       "   cost_change_event  ...  total_points  transfers_in  transfers_in_event  \\\n",
       "0                  0  ...             0          3264                  55   \n",
       "1                  0  ...             0         10195                  18   \n",
       "2                  0  ...             7         29500                2291   \n",
       "3                 -1  ...            20        354384                5952   \n",
       "4                 -1  ...             0          2566                 200   \n",
       "\n",
       "   transfers_out  transfers_out_event  value_form  value_season      vapm  \\\n",
       "0          47258                 3038         0.0           0.0  0.000000   \n",
       "1          17729                  598         0.0           0.0  0.000000   \n",
       "2          57672                10247         0.3           1.3 -0.109091   \n",
       "3        2509284               178237         0.2           1.7  0.113960   \n",
       "4          29736                  937         0.0           0.0  0.000000   \n",
       "\n",
       "     web_name  yellow_cards  \n",
       "0        Özil             0  \n",
       "1    Sokratis             0  \n",
       "2  David Luiz             0  \n",
       "3  Aubameyang             1  \n",
       "4      Cédric             0  \n",
       "\n",
       "[5 rows x 70 columns]"
      ]
     },
     "execution_count": 83,
     "metadata": {},
     "output_type": "execute_result"
    }
   ],
   "source": [
    "player_df.head()"
   ]
  },
  {
   "cell_type": "code",
   "execution_count": 88,
   "metadata": {
    "ExecuteTime": {
     "end_time": "2020-10-30T16:31:29.143644Z",
     "start_time": "2020-10-30T16:31:29.112924Z"
    }
   },
   "outputs": [
    {
     "name": "stdout",
     "output_type": "stream",
     "text": [
      "code\n",
      "creativity_rank\n",
      "ict_index_rank\n",
      "id\n",
      "influence_rank\n",
      "photo\n",
      "threat_rank\n"
     ]
    }
   ],
   "source": [
    "for col in player_df:\n",
    "    if len(player_df[col].unique()) == len(player_df):\n",
    "        print(col)"
   ]
  },
  {
   "cell_type": "code",
   "execution_count": 89,
   "metadata": {
    "ExecuteTime": {
     "end_time": "2020-10-30T16:32:08.558660Z",
     "start_time": "2020-10-30T16:32:08.549041Z"
    }
   },
   "outputs": [],
   "source": [
    "player_df.drop([\"code\",\"id\",\"photo\"], axis=1, inplace=True)"
   ]
  },
  {
   "cell_type": "code",
   "execution_count": 90,
   "metadata": {
    "ExecuteTime": {
     "end_time": "2020-10-30T16:32:11.642569Z",
     "start_time": "2020-10-30T16:32:11.604482Z"
    }
   },
   "outputs": [],
   "source": [
    "today = date.today()\n",
    "d = today.strftime(\"%d-%m-%Y\")\n",
    "player_df.to_csv(\"player_\"+d+\".csv\")"
   ]
  },
  {
   "cell_type": "code",
   "execution_count": null,
   "metadata": {},
   "outputs": [],
   "source": []
  }
 ],
 "metadata": {
  "kernelspec": {
   "display_name": "Python 3",
   "language": "python",
   "name": "python3"
  },
  "language_info": {
   "codemirror_mode": {
    "name": "ipython",
    "version": 3
   },
   "file_extension": ".py",
   "mimetype": "text/x-python",
   "name": "python",
   "nbconvert_exporter": "python",
   "pygments_lexer": "ipython3",
   "version": "3.8.5"
  },
  "toc": {
   "base_numbering": 1,
   "nav_menu": {},
   "number_sections": true,
   "sideBar": true,
   "skip_h1_title": false,
   "title_cell": "Table of Contents",
   "title_sidebar": "Contents",
   "toc_cell": false,
   "toc_position": {},
   "toc_section_display": true,
   "toc_window_display": false
  },
  "varInspector": {
   "cols": {
    "lenName": 16,
    "lenType": 16,
    "lenVar": 40
   },
   "kernels_config": {
    "python": {
     "delete_cmd_postfix": "",
     "delete_cmd_prefix": "del ",
     "library": "var_list.py",
     "varRefreshCmd": "print(var_dic_list())"
    },
    "r": {
     "delete_cmd_postfix": ") ",
     "delete_cmd_prefix": "rm(",
     "library": "var_list.r",
     "varRefreshCmd": "cat(var_dic_list()) "
    }
   },
   "types_to_exclude": [
    "module",
    "function",
    "builtin_function_or_method",
    "instance",
    "_Feature"
   ],
   "window_display": false
  }
 },
 "nbformat": 4,
 "nbformat_minor": 4
}
